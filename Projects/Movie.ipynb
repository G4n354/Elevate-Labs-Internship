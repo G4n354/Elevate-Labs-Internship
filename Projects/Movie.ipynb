{
 "cells": [
  {
   "cell_type": "code",
   "execution_count": 1,
   "id": "92658ec6",
   "metadata": {
    "scrolled": true
   },
   "outputs": [],
   "source": [
    "import pandas as pd"
   ]
  },
  {
   "cell_type": "code",
   "execution_count": 2,
   "id": "a0d2f83f",
   "metadata": {
    "scrolled": true
   },
   "outputs": [],
   "source": [
    "# Load the dataset\n",
    "movies = pd.read_csv('ml-latest-small/ml-latest-small/movies.csv')\n",
    "ratings = pd.read_csv('ml-latest-small/ml-latest-small/ratings.csv')"
   ]
  },
  {
   "cell_type": "code",
   "execution_count": 3,
   "id": "d7108872",
   "metadata": {},
   "outputs": [
    {
     "name": "stdout",
     "output_type": "stream",
     "text": [
      "   movieId                               title  \\\n",
      "0        1                    Toy Story (1995)   \n",
      "1        2                      Jumanji (1995)   \n",
      "2        3             Grumpier Old Men (1995)   \n",
      "3        4            Waiting to Exhale (1995)   \n",
      "4        5  Father of the Bride Part II (1995)   \n",
      "\n",
      "                                        genres  \n",
      "0  Adventure|Animation|Children|Comedy|Fantasy  \n",
      "1                   Adventure|Children|Fantasy  \n",
      "2                               Comedy|Romance  \n",
      "3                         Comedy|Drama|Romance  \n",
      "4                                       Comedy  \n",
      "   userId  movieId  rating  timestamp\n",
      "0       1        1     4.0  964982703\n",
      "1       1        3     4.0  964981247\n",
      "2       1        6     4.0  964982224\n",
      "3       1       47     5.0  964983815\n",
      "4       1       50     5.0  964982931\n"
     ]
    }
   ],
   "source": [
    "# Preview the data\n",
    "print(movies.head())\n",
    "print(ratings.head())"
   ]
  },
  {
   "cell_type": "code",
   "execution_count": 4,
   "id": "9a647ea4",
   "metadata": {},
   "outputs": [],
   "source": [
    "# Merge movies and ratings\n",
    "data = pd.merge(ratings, movies, on='movieId')"
   ]
  },
  {
   "cell_type": "code",
   "execution_count": 5,
   "id": "b037950a",
   "metadata": {},
   "outputs": [],
   "source": [
    "# Drop unnecessary columns\n",
    "data = data[['userId', 'title', 'rating', 'genres']]"
   ]
  },
  {
   "cell_type": "code",
   "execution_count": 6,
   "id": "96f76e82",
   "metadata": {},
   "outputs": [],
   "source": [
    "# Convert genres to a list\n",
    "data['genres'] = data['genres'].str.split('|')"
   ]
  },
  {
   "cell_type": "code",
   "execution_count": 7,
   "id": "e702bcde",
   "metadata": {},
   "outputs": [],
   "source": [
    "# Create a user-item matrix\n",
    "user_item_matrix = data.pivot_table(index='userId', columns='title', values='rating')"
   ]
  },
  {
   "cell_type": "code",
   "execution_count": 8,
   "id": "5cef9f63",
   "metadata": {},
   "outputs": [
    {
     "ename": "ModuleNotFoundError",
     "evalue": "No module named 'surprise'",
     "output_type": "error",
     "traceback": [
      "\u001b[1;31m---------------------------------------------------------------------------\u001b[0m",
      "\u001b[1;31mModuleNotFoundError\u001b[0m                       Traceback (most recent call last)",
      "Cell \u001b[1;32mIn[8], line 1\u001b[0m\n\u001b[1;32m----> 1\u001b[0m \u001b[38;5;28;01mfrom\u001b[39;00m \u001b[38;5;21;01msurprise\u001b[39;00m \u001b[38;5;28;01mimport\u001b[39;00m Dataset, Reader\n\u001b[0;32m      2\u001b[0m \u001b[38;5;28;01mfrom\u001b[39;00m \u001b[38;5;21;01msurprise\u001b[39;00m \u001b[38;5;28;01mimport\u001b[39;00m SVD\n\u001b[0;32m      3\u001b[0m \u001b[38;5;28;01mfrom\u001b[39;00m \u001b[38;5;21;01msurprise\u001b[39;00m\u001b[38;5;21;01m.\u001b[39;00m\u001b[38;5;21;01mmodel_selection\u001b[39;00m \u001b[38;5;28;01mimport\u001b[39;00m train_test_split\n",
      "\u001b[1;31mModuleNotFoundError\u001b[0m: No module named 'surprise'"
     ]
    }
   ],
   "source": [
    "from surprise import Dataset, Reader\n",
    "from surprise import SVD\n",
    "from surprise.model_selection import train_test_split\n",
    "from surprise import accuracy\n",
    "from surprise import dump"
   ]
  },
  {
   "cell_type": "code",
   "execution_count": null,
   "id": "0eaf6e91",
   "metadata": {},
   "outputs": [],
   "source": [
    "# Load the dataset into Surprise\n",
    "reader = Reader(rating_scale=(1, 5))\n",
    "data_surprise = Dataset.load_from_df(data[['userId', 'title', 'rating']], reader)"
   ]
  },
  {
   "cell_type": "code",
   "execution_count": null,
   "id": "61c82585",
   "metadata": {},
   "outputs": [],
   "source": [
    "# Split the dataset into training and testing sets\n",
    "trainset, testset = train_test_split(data_surprise, test_size=0.2)"
   ]
  },
  {
   "cell_type": "code",
   "execution_count": null,
   "id": "95a9d109",
   "metadata": {},
   "outputs": [],
   "source": [
    "# Build the SVD model\n",
    "model = SVD()\n",
    "model.fit(trainset)"
   ]
  },
  {
   "cell_type": "code",
   "execution_count": null,
   "id": "317a34c0",
   "metadata": {},
   "outputs": [],
   "source": [
    "# Save the model\n",
    "dump.dump('model.pkl', algo=model)"
   ]
  },
  {
   "cell_type": "code",
   "execution_count": null,
   "id": "4ec6254b",
   "metadata": {},
   "outputs": [],
   "source": [
    "def get_recommendations(title, user_rating):\n",
    "    # Get the genres of the input movie\n",
    "    movie_genres = movies[movies['title'] == title]['genres'].values[0].split('|')\n",
    "    \n",
    "    # Filter movies that share the same genres\n",
    "    genre_filtered_movies = movies[movies['genres'].apply(lambda x: any(genre in x for genre in movie_genres))]\n",
    "    \n",
    "    # Get the top rated movies from the filtered list\n",
    "    top_movies = genre_filtered_movies.merge(ratings.groupby('movieId')['rating'].mean().reset_index(), on='movieId')\n",
    "    top_movies = top_movies.sort_values(by='rating', ascending=False).head(5)\n",
    "    \n",
    "    return top_movies['title'].tolist()\n"
   ]
  },
  {
   "cell_type": "code",
   "execution_count": null,
   "id": "0ffa5b13",
   "metadata": {},
   "outputs": [],
   "source": [
    "import streamlit as st\n",
    "from surprise import dump\n",
    "\n",
    "# Load the model\n",
    "model = dump.load('model.pkl')[1]\n",
    "\n",
    "st.title(\"Movie Recommendation System\")\n",
    "\n",
    "# User input\n",
    "user_id = st.number_input(\"Enter your User ID:\", min_value=1, max_value=1000, value=1)\n",
    "movie_title = st.selectbox(\"Select a movie:\", movies['title'].tolist())\n",
    "user_rating = st.slider(\"Rate the movie (1-5):\", min_value=1, max_value=5, value=3)\n",
    "\n",
    "if st.button(\"Get Recommendations\"):\n",
    "    # Get collaborative filtering recommendations\n",
    "    movie_id = movies[movies['title'] == movie_title]['movieId'].values[0]\n",
    "    model.predict(user_id, movie_id, r_ui=user_rating)\n",
    "    \n",
    "    # Get content-based recommendations\n",
    "    recommendations = get_recommendations(movie_title, user_rating)\n",
    "    \n",
    "    st.write(\"Top 5 Recommendations:\")\n",
    "    for rec in recommendations:\n",
    "        st.write(rec)"
   ]
  },
  {
   "cell_type": "code",
   "execution_count": null,
   "id": "eb623a32",
   "metadata": {},
   "outputs": [],
   "source": []
  }
 ],
 "metadata": {
  "kernelspec": {
   "display_name": "Python 3 (ipykernel)",
   "language": "python",
   "name": "python3"
  },
  "language_info": {
   "codemirror_mode": {
    "name": "ipython",
    "version": 3
   },
   "file_extension": ".py",
   "mimetype": "text/x-python",
   "name": "python",
   "nbconvert_exporter": "python",
   "pygments_lexer": "ipython3",
   "version": "3.11.5"
  }
 },
 "nbformat": 4,
 "nbformat_minor": 5
}
